{
 "cells": [
  {
   "cell_type": "markdown",
   "id": "0d6266c9-a8f9-4633-bc14-10baf7f785ca",
   "metadata": {
    "tags": []
   },
   "source": [
    "# Fractals, Visualization and J, Fourth edition, Part 1: Chapter 1 exercises"
   ]
  },
  {
   "cell_type": "code",
   "execution_count": 8,
   "id": "67a6557c-d586-4708-958a-7a23b017d75e",
   "metadata": {},
   "outputs": [
    {
     "name": "stdout",
     "output_type": "stream",
     "text": [
      "2.71828\n"
     ]
    }
   ],
   "source": [
    "]e=: ^1"
   ]
  },
  {
   "cell_type": "code",
   "execution_count": 9,
   "id": "9658f8d7-ab30-43cf-8261-6f1eaa584eeb",
   "metadata": {},
   "outputs": [
    {
     "name": "stdout",
     "output_type": "stream",
     "text": [
      "1\n"
     ]
    }
   ],
   "source": [
    "1^^1+1"
   ]
  },
  {
   "cell_type": "code",
   "execution_count": 10,
   "id": "85b16e80-4255-49a6-b61e-c590d32cdd2a",
   "metadata": {},
   "outputs": [
    {
     "name": "stdout",
     "output_type": "stream",
     "text": [
      "1\n"
     ]
    }
   ],
   "source": [
    "1^^1+1 = 1^(e^1+1)"
   ]
  },
  {
   "cell_type": "code",
   "execution_count": 14,
   "id": "25b0bccc-7d42-4cbc-a7db-6c9ac8244246",
   "metadata": {},
   "outputs": [
    {
     "name": "stdout",
     "output_type": "stream",
     "text": [
      "1\n"
     ]
    }
   ],
   "source": [
    "%5%5"
   ]
  },
  {
   "cell_type": "code",
   "execution_count": 22,
   "id": "3c877ed0-b9e1-4518-8c37-0a0e10931d0c",
   "metadata": {},
   "outputs": [
    {
     "name": "stdout",
     "output_type": "stream",
     "text": [
      "8.88889\n"
     ]
    }
   ],
   "source": [
    "9+%-9"
   ]
  },
  {
   "cell_type": "code",
   "execution_count": 26,
   "id": "0480ea21-d66e-40f9-873a-421035a6ebf5",
   "metadata": {},
   "outputs": [
    {
     "name": "stdout",
     "output_type": "stream",
     "text": [
      "5\n"
     ]
    }
   ],
   "source": [
    "-%-%5"
   ]
  },
  {
   "cell_type": "code",
   "execution_count": 27,
   "id": "579bdd61-8194-4c42-882b-2a362a094355",
   "metadata": {},
   "outputs": [
    {
     "name": "stdout",
     "output_type": "stream",
     "text": [
      "1\n"
     ]
    }
   ],
   "source": [
    "1%^1-4-3"
   ]
  },
  {
   "cell_type": "code",
   "execution_count": 31,
   "id": "32be0314-c2d8-4ff7-91f2-17fb4ce03135",
   "metadata": {},
   "outputs": [
    {
     "name": "stdout",
     "output_type": "stream",
     "text": [
      "0.5\n"
     ]
    }
   ],
   "source": [
    "%:%4"
   ]
  },
  {
   "cell_type": "code",
   "execution_count": 32,
   "id": "0ed841e5-fd71-496a-92bb-8fc0e93d7fd6",
   "metadata": {},
   "outputs": [
    {
     "name": "stdout",
     "output_type": "stream",
     "text": [
      "4\n"
     ]
    }
   ],
   "source": [
    "*:1+1"
   ]
  },
  {
   "cell_type": "code",
   "execution_count": 37,
   "id": "c7d8696f-0ead-4926-a3cd-e03050bc65e0",
   "metadata": {},
   "outputs": [
    {
     "name": "stdout",
     "output_type": "stream",
     "text": [
      "2.82843\n"
     ]
    }
   ],
   "source": [
    "%:7+%-1*2-3"
   ]
  },
  {
   "cell_type": "code",
   "execution_count": 38,
   "id": "19fc3ae6-92b8-42c5-a60e-bc5401647251",
   "metadata": {},
   "outputs": [
    {
     "name": "stdout",
     "output_type": "stream",
     "text": [
      "1.87344\n"
     ]
    }
   ],
   "source": [
    "3^4r7"
   ]
  },
  {
   "cell_type": "code",
   "execution_count": 39,
   "id": "7ed5602a-440f-43e2-a771-67f19517ff7c",
   "metadata": {},
   "outputs": [
    {
     "name": "stdout",
     "output_type": "stream",
     "text": [
      "1.09861\n"
     ]
    }
   ],
   "source": [
    "^.3"
   ]
  },
  {
   "cell_type": "code",
   "execution_count": 59,
   "id": "b2aa33f2-1770-444c-9116-b869fe108681",
   "metadata": {},
   "outputs": [],
   "source": [
    "sin=: 1&o."
   ]
  },
  {
   "cell_type": "code",
   "execution_count": 60,
   "id": "ceea260e-9e21-4f88-b5c6-138a0fc1b67f",
   "metadata": {},
   "outputs": [
    {
     "name": "stdout",
     "output_type": "stream",
     "text": [
      "0.707107\n"
     ]
    }
   ],
   "source": [
    "sin 1p1 % 4"
   ]
  },
  {
   "cell_type": "code",
   "execution_count": 49,
   "id": "e9e99bbc-22dc-40e8-b0fd-471bdd79726f",
   "metadata": {},
   "outputs": [
    {
     "name": "stdout",
     "output_type": "stream",
     "text": [
      "0.518596\n"
     ]
    }
   ],
   "source": [
    "1 % %:1+^1"
   ]
  },
  {
   "cell_type": "code",
   "execution_count": 52,
   "id": "24e5c9bc-a6e6-41be-a433-adfac0b6fe2f",
   "metadata": {},
   "outputs": [
    {
     "name": "stdout",
     "output_type": "stream",
     "text": [
      "_0.15199\n"
     ]
    }
   ],
   "source": [
    "((%:8) - 4) % 1+3*%:5"
   ]
  },
  {
   "cell_type": "markdown",
   "id": "51e70054-f1f8-4553-9a66-e6db67d7ac4e",
   "metadata": {},
   "source": [
    "4. \n",
    "\n",
    "$$\\sin 0$$\n",
    "\n",
    "$$\\sin \\Bigg(\\frac{\\pi}{3}\\Bigg)$$\n",
    "\n",
    "$$2^{3+4}$$\n",
    "\n",
    "$$1 + 2 \\times 5$$\n",
    "\n",
    "$$e^{2 \\times 5}$$\n",
    "\n",
    "$$\\frac{1}{\\ln{\\sqrt{3}}}$$\n",
    "\n",
    "$$-(2 + 2^{5})$$\n",
    "\n",
    "$$-2 + 2^{5}$$\n",
    "\n",
    "$$2 + -(2^{5})$$\n",
    "\n",
    "$$2 + -2^{5}$$"
   ]
  },
  {
   "cell_type": "code",
   "execution_count": 80,
   "id": "3aae6cb2-ae75-410b-9f7f-6e69a1264b27",
   "metadata": {
    "tags": []
   },
   "outputs": [
    {
     "name": "stdout",
     "output_type": "stream",
     "text": [
      "0 1 2 3 4\n"
     ]
    }
   ],
   "source": [
    "i.5"
   ]
  },
  {
   "cell_type": "code",
   "execution_count": 79,
   "id": "1d373625-9166-4098-af46-1a618361a0ca",
   "metadata": {},
   "outputs": [
    {
     "name": "stdout",
     "output_type": "stream",
     "text": [
      "0 2 4 6 8\n"
     ]
    }
   ],
   "source": [
    "2*i.5"
   ]
  },
  {
   "cell_type": "code",
   "execution_count": 84,
   "id": "dd5bfb50-e34d-4653-9dc6-7643632b15db",
   "metadata": {},
   "outputs": [
    {
     "name": "stdout",
     "output_type": "stream",
     "text": [
      "0 1 4 9 16\n"
     ]
    }
   ],
   "source": [
    "*:i.5"
   ]
  },
  {
   "cell_type": "code",
   "execution_count": 89,
   "id": "9204233f-9770-4e75-a652-62c169f382bc",
   "metadata": {},
   "outputs": [
    {
     "name": "stdout",
     "output_type": "stream",
     "text": [
      "0 1 1.41421 1.73205 2\n"
     ]
    }
   ],
   "source": [
    "%:i.5"
   ]
  },
  {
   "cell_type": "code",
   "execution_count": 91,
   "id": "16c0125a-307e-4927-abfd-a48c73405720",
   "metadata": {},
   "outputs": [
    {
     "name": "stdout",
     "output_type": "stream",
     "text": [
      "1 0.5 0.333333 0.25 0.2\n"
     ]
    }
   ],
   "source": [
    "%1+i.5"
   ]
  },
  {
   "cell_type": "code",
   "execution_count": 93,
   "id": "ac3a7f54-72ca-4d49-adc8-ae05f9c4039f",
   "metadata": {},
   "outputs": [
    {
     "name": "stdout",
     "output_type": "stream",
     "text": [
      "4 8 16 32 64\n"
     ]
    }
   ],
   "source": [
    "2^2+i.5"
   ]
  },
  {
   "cell_type": "code",
   "execution_count": 126,
   "id": "474e39db-ec67-4e42-ae93-77199a297936",
   "metadata": {},
   "outputs": [
    {
     "name": "stdout",
     "output_type": "stream",
     "text": [
      "2 3 4 5 6\n",
      "3 4 5 6 7\n",
      "4 5 6 7 8\n"
     ]
    }
   ],
   "source": [
    "2 3 4 +/ i.5"
   ]
  },
  {
   "cell_type": "code",
   "execution_count": null,
   "id": "6bb9b67c-4938-4c1e-b41a-e82dd708d235",
   "metadata": {},
   "outputs": [],
   "source": []
  }
 ],
 "metadata": {
  "kernelspec": {
   "display_name": "J",
   "language": "J",
   "name": "jkernel"
  },
  "language_info": {
   "file_extension": ".ijs",
   "mimetype": "text/J",
   "name": "J"
  }
 },
 "nbformat": 4,
 "nbformat_minor": 5
}
